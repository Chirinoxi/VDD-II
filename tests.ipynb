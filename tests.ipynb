{
 "cells": [
  {
   "cell_type": "markdown",
   "metadata": {},
   "source": [
    "# Pruebas\n",
    "\n",
    "En este notebook haremos prubeas de neustros tres módulos a desarrollar."
   ]
  },
  {
   "cell_type": "code",
   "execution_count": 37,
   "metadata": {},
   "outputs": [],
   "source": [
    "from src.GlaubenDataPrep import GlaubenDataPrep\n",
    "from src.GlaubenDataVisualization import GlaubenDataVisualization"
   ]
  },
  {
   "cell_type": "code",
   "execution_count": 38,
   "metadata": {},
   "outputs": [],
   "source": [
    "my_data_dir = 'C:/Users/apa/Documents/Glauben ecology/Vertientes del desierto II/Data/Limpios/20210923.planta.2.csv'\n",
    "glauben_data_prep = GlaubenDataPrep(my_data_dir)"
   ]
  },
  {
   "cell_type": "code",
   "execution_count": 39,
   "metadata": {},
   "outputs": [],
   "source": [
    "glauben_data_prep.loadData()"
   ]
  },
  {
   "cell_type": "code",
   "execution_count": 40,
   "metadata": {},
   "outputs": [
    {
     "name": "stdout",
     "output_type": "stream",
     "text": [
      "<class 'pandas.core.frame.DataFrame'>\n",
      "RangeIndex: 86465 entries, 0 to 86464\n",
      "Data columns (total 26 columns):\n",
      " #   Column                                                       Non-Null Count  Dtype  \n",
      "---  ------                                                       --------------  -----  \n",
      " 0   Timestamp                                                    86465 non-null  object \n",
      " 1   Rack2-Rechazo membrana                                       76603 non-null  float64\n",
      " 2   Rack2-Presion neta aplicada                                  76601 non-null  float64\n",
      " 3   Rack2-Corriente de la bomba                                  86098 non-null  float64\n",
      " 4   Rack2-NormalizedDifferentialPressure                         76486 non-null  float64\n",
      " 5   Rack2-Presion de permeado                                    76601 non-null  float64\n",
      " 6   Rack2-Flujo normalizado                                      76605 non-null  float64\n",
      " 7   Rack2-Temperatura entrada                                    76606 non-null  float64\n",
      " 8   Rack2-Presion diferencial                                    76606 non-null  float64\n",
      " 9   Planta 0 - Filtros Cartucho-Temperatura del agua             86101 non-null  float64\n",
      " 10  Rack2-Flujo de permeado                                      76606 non-null  float64\n",
      " 11  Rack2-Conductividad de permeado                              76605 non-null  float64\n",
      " 12  Rack2-Recuperacion                                           76606 non-null  float64\n",
      " 13  Rack2-pH entrada                                             76602 non-null  float64\n",
      " 14  Planta 0 - Filtros Cartucho-Diferenical de Filtros Cartucho  86101 non-null  float64\n",
      " 15  Rack2-Presion de entrada                                     76605 non-null  float64\n",
      " 16  Planta 0 - Filtros Cartucho-SDI Entrada                      86101 non-null  float64\n",
      " 17  Rack2-Presion de rechazo                                     76559 non-null  float64\n",
      " 18  Rack2-Paso de sales normalizado                              76594 non-null  float64\n",
      " 19  Rack2-NormalizedDP%Change                                    76964 non-null  float64\n",
      " 20  Planta 0 - Filtros 1era Etapa-Diferenical de 2da Etapa       86100 non-null  float64\n",
      " 21  Planta 0 - Filtros 1era Etapa-Diferencial de 1era Etapa      86101 non-null  float64\n",
      " 22  Rack2-Conductividad de entrada                               76605 non-null  float64\n",
      " 23  Rack2-Flujo de Alimentacion                                  76606 non-null  float64\n",
      " 24  Rack2-Flujo de rechazo                                       76605 non-null  float64\n",
      " 25  Rack2-ORP Alimentacion                                       86101 non-null  float64\n",
      "dtypes: float64(25), object(1)\n",
      "memory usage: 17.2+ MB\n"
     ]
    }
   ],
   "source": [
    "glauben_data_prep.data.info()"
   ]
  },
  {
   "cell_type": "code",
   "execution_count": 41,
   "metadata": {},
   "outputs": [
    {
     "name": "stdout",
     "output_type": "stream",
     "text": [
      "<class 'pandas.core.frame.DataFrame'>\n",
      "RangeIndex: 86465 entries, 0 to 86464\n",
      "Data columns (total 26 columns):\n",
      " #   Column                                                       Non-Null Count  Dtype  \n",
      "---  ------                                                       --------------  -----  \n",
      " 0   Timestamp                                                    86465 non-null  object \n",
      " 1   Rack2-Rechazo membrana                                       76603 non-null  float64\n",
      " 2   Rack2-Presion neta aplicada                                  76601 non-null  float64\n",
      " 3   Rack2-Corriente de la bomba                                  86098 non-null  float64\n",
      " 4   Rack2-NormalizedDifferentialPressure                         76486 non-null  float64\n",
      " 5   Rack2-Presion de permeado                                    76601 non-null  float64\n",
      " 6   Rack2-Flujo normalizado                                      76605 non-null  float64\n",
      " 7   Rack2-Temperatura entrada                                    76606 non-null  float64\n",
      " 8   Rack2-Presion diferencial                                    76606 non-null  float64\n",
      " 9   Planta 0 - Filtros Cartucho-Temperatura del agua             86101 non-null  float64\n",
      " 10  Rack2-Flujo de permeado                                      76606 non-null  float64\n",
      " 11  Rack2-Conductividad de permeado                              76605 non-null  float64\n",
      " 12  Rack2-Recuperacion                                           76606 non-null  float64\n",
      " 13  Rack2-pH entrada                                             76602 non-null  float64\n",
      " 14  Planta 0 - Filtros Cartucho-Diferenical de Filtros Cartucho  86101 non-null  float64\n",
      " 15  Rack2-Presion de entrada                                     76605 non-null  float64\n",
      " 16  Planta 0 - Filtros Cartucho-SDI Entrada                      86101 non-null  float64\n",
      " 17  Rack2-Presion de rechazo                                     76559 non-null  float64\n",
      " 18  Rack2-Paso de sales normalizado                              76594 non-null  float64\n",
      " 19  Rack2-NormalizedDP%Change                                    76964 non-null  float64\n",
      " 20  Planta 0 - Filtros 1era Etapa-Diferenical de 2da Etapa       86100 non-null  float64\n",
      " 21  Planta 0 - Filtros 1era Etapa-Diferencial de 1era Etapa      86101 non-null  float64\n",
      " 22  Rack2-Conductividad de entrada                               76605 non-null  float64\n",
      " 23  Rack2-Flujo de Alimentacion                                  76606 non-null  float64\n",
      " 24  Rack2-Flujo de rechazo                                       76605 non-null  float64\n",
      " 25  Rack2-ORP Alimentacion                                       86101 non-null  float64\n",
      "dtypes: float64(25), object(1)\n",
      "memory usage: 17.2+ MB\n"
     ]
    }
   ],
   "source": [
    "glauben_data_prep.data.info()"
   ]
  },
  {
   "cell_type": "code",
   "execution_count": 6,
   "metadata": {},
   "outputs": [],
   "source": [
    "#glauben_data_prep.data.info()\n",
    "#cantidad = glauben_data_prep.clean_data['Planta 0 - Filtros Cartucho-Temperatura del agua'].isnull().sum()\n",
    "#print(cantidad)"
   ]
  },
  {
   "cell_type": "code",
   "execution_count": 7,
   "metadata": {},
   "outputs": [],
   "source": [
    "glauben_data_prep.clean_data = glauben_data_prep.filterByGauss(glauben_data_prep.data, 3)"
   ]
  },
  {
   "cell_type": "code",
   "execution_count": 8,
   "metadata": {},
   "outputs": [
    {
     "name": "stdout",
     "output_type": "stream",
     "text": [
      "<class 'pandas.core.frame.DataFrame'>\n",
      "Int64Index: 71020 entries, 1 to 86464\n",
      "Data columns (total 26 columns):\n",
      " #   Column                                                       Non-Null Count  Dtype  \n",
      "---  ------                                                       --------------  -----  \n",
      " 0   Timestamp                                                    71020 non-null  object \n",
      " 1   Rack2-Rechazo membrana                                       71020 non-null  float64\n",
      " 2   Rack2-Presion neta aplicada                                  71020 non-null  float64\n",
      " 3   Rack2-Corriente de la bomba                                  71020 non-null  float64\n",
      " 4   Rack2-NormalizedDifferentialPressure                         71020 non-null  float64\n",
      " 5   Rack2-Presion de permeado                                    71020 non-null  float64\n",
      " 6   Rack2-Flujo normalizado                                      71020 non-null  float64\n",
      " 7   Rack2-Temperatura entrada                                    71020 non-null  float64\n",
      " 8   Rack2-Presion diferencial                                    71020 non-null  float64\n",
      " 9   Planta 0 - Filtros Cartucho-Temperatura del agua             71020 non-null  float64\n",
      " 10  Rack2-Flujo de permeado                                      71020 non-null  float64\n",
      " 11  Rack2-Conductividad de permeado                              71020 non-null  float64\n",
      " 12  Rack2-Recuperacion                                           71020 non-null  float64\n",
      " 13  Rack2-pH entrada                                             71020 non-null  float64\n",
      " 14  Planta 0 - Filtros Cartucho-Diferenical de Filtros Cartucho  71020 non-null  float64\n",
      " 15  Rack2-Presion de entrada                                     71020 non-null  float64\n",
      " 16  Planta 0 - Filtros Cartucho-SDI Entrada                      71020 non-null  float64\n",
      " 17  Rack2-Presion de rechazo                                     71020 non-null  float64\n",
      " 18  Rack2-Paso de sales normalizado                              71020 non-null  float64\n",
      " 19  Rack2-NormalizedDP%Change                                    71020 non-null  float64\n",
      " 20  Planta 0 - Filtros 1era Etapa-Diferenical de 2da Etapa       71020 non-null  float64\n",
      " 21  Planta 0 - Filtros 1era Etapa-Diferencial de 1era Etapa      71020 non-null  float64\n",
      " 22  Rack2-Conductividad de entrada                               71020 non-null  float64\n",
      " 23  Rack2-Flujo de Alimentacion                                  71020 non-null  float64\n",
      " 24  Rack2-Flujo de rechazo                                       71020 non-null  float64\n",
      " 25  Rack2-ORP Alimentacion                                       71020 non-null  float64\n",
      "dtypes: float64(25), object(1)\n",
      "memory usage: 14.6+ MB\n"
     ]
    }
   ],
   "source": [
    "glauben_data_prep.clean_data.info()"
   ]
  },
  {
   "cell_type": "code",
   "execution_count": 9,
   "metadata": {},
   "outputs": [],
   "source": [
    "glauben_graphic = GlaubenDataVisualization(\"plotly\", glauben_data_prep.data)"
   ]
  },
  {
   "cell_type": "code",
   "execution_count": 10,
   "metadata": {},
   "outputs": [
    {
     "data": {
      "application/vnd.plotly.v1+json": {
       "config": {
        "plotlyServerURL": "https://plot.ly"
       },
       "data": [
        {
         "alignmentgroup": "True",
         "hovertemplate": "x=%{x}<br>y=%{y}<extra></extra>",
         "legendgroup": "",
         "marker": {
          "color": "#636efa",
          "pattern": {
           "shape": ""
          }
         },
         "name": "",
         "offsetgroup": "",
         "orientation": "v",
         "showlegend": false,
         "textposition": "auto",
         "type": "bar",
         "x": [
          "Planta 0 - Filtros Cartucho-Temperatura del agua",
          "Rack2-Flujo de rechazo"
         ],
         "xaxis": "x",
         "y": [
          86101,
          76605
         ],
         "yaxis": "y"
        }
       ],
       "layout": {
        "barmode": "relative",
        "height": 600,
        "legend": {
         "tracegroupgap": 0
        },
        "template": {
         "data": {
          "bar": [
           {
            "error_x": {
             "color": "#2a3f5f"
            },
            "error_y": {
             "color": "#2a3f5f"
            },
            "marker": {
             "line": {
              "color": "#E5ECF6",
              "width": 0.5
             },
             "pattern": {
              "fillmode": "overlay",
              "size": 10,
              "solidity": 0.2
             }
            },
            "type": "bar"
           }
          ],
          "barpolar": [
           {
            "marker": {
             "line": {
              "color": "#E5ECF6",
              "width": 0.5
             },
             "pattern": {
              "fillmode": "overlay",
              "size": 10,
              "solidity": 0.2
             }
            },
            "type": "barpolar"
           }
          ],
          "carpet": [
           {
            "aaxis": {
             "endlinecolor": "#2a3f5f",
             "gridcolor": "white",
             "linecolor": "white",
             "minorgridcolor": "white",
             "startlinecolor": "#2a3f5f"
            },
            "baxis": {
             "endlinecolor": "#2a3f5f",
             "gridcolor": "white",
             "linecolor": "white",
             "minorgridcolor": "white",
             "startlinecolor": "#2a3f5f"
            },
            "type": "carpet"
           }
          ],
          "choropleth": [
           {
            "colorbar": {
             "outlinewidth": 0,
             "ticks": ""
            },
            "type": "choropleth"
           }
          ],
          "contour": [
           {
            "colorbar": {
             "outlinewidth": 0,
             "ticks": ""
            },
            "colorscale": [
             [
              0,
              "#0d0887"
             ],
             [
              0.1111111111111111,
              "#46039f"
             ],
             [
              0.2222222222222222,
              "#7201a8"
             ],
             [
              0.3333333333333333,
              "#9c179e"
             ],
             [
              0.4444444444444444,
              "#bd3786"
             ],
             [
              0.5555555555555556,
              "#d8576b"
             ],
             [
              0.6666666666666666,
              "#ed7953"
             ],
             [
              0.7777777777777778,
              "#fb9f3a"
             ],
             [
              0.8888888888888888,
              "#fdca26"
             ],
             [
              1,
              "#f0f921"
             ]
            ],
            "type": "contour"
           }
          ],
          "contourcarpet": [
           {
            "colorbar": {
             "outlinewidth": 0,
             "ticks": ""
            },
            "type": "contourcarpet"
           }
          ],
          "heatmap": [
           {
            "colorbar": {
             "outlinewidth": 0,
             "ticks": ""
            },
            "colorscale": [
             [
              0,
              "#0d0887"
             ],
             [
              0.1111111111111111,
              "#46039f"
             ],
             [
              0.2222222222222222,
              "#7201a8"
             ],
             [
              0.3333333333333333,
              "#9c179e"
             ],
             [
              0.4444444444444444,
              "#bd3786"
             ],
             [
              0.5555555555555556,
              "#d8576b"
             ],
             [
              0.6666666666666666,
              "#ed7953"
             ],
             [
              0.7777777777777778,
              "#fb9f3a"
             ],
             [
              0.8888888888888888,
              "#fdca26"
             ],
             [
              1,
              "#f0f921"
             ]
            ],
            "type": "heatmap"
           }
          ],
          "heatmapgl": [
           {
            "colorbar": {
             "outlinewidth": 0,
             "ticks": ""
            },
            "colorscale": [
             [
              0,
              "#0d0887"
             ],
             [
              0.1111111111111111,
              "#46039f"
             ],
             [
              0.2222222222222222,
              "#7201a8"
             ],
             [
              0.3333333333333333,
              "#9c179e"
             ],
             [
              0.4444444444444444,
              "#bd3786"
             ],
             [
              0.5555555555555556,
              "#d8576b"
             ],
             [
              0.6666666666666666,
              "#ed7953"
             ],
             [
              0.7777777777777778,
              "#fb9f3a"
             ],
             [
              0.8888888888888888,
              "#fdca26"
             ],
             [
              1,
              "#f0f921"
             ]
            ],
            "type": "heatmapgl"
           }
          ],
          "histogram": [
           {
            "marker": {
             "pattern": {
              "fillmode": "overlay",
              "size": 10,
              "solidity": 0.2
             }
            },
            "type": "histogram"
           }
          ],
          "histogram2d": [
           {
            "colorbar": {
             "outlinewidth": 0,
             "ticks": ""
            },
            "colorscale": [
             [
              0,
              "#0d0887"
             ],
             [
              0.1111111111111111,
              "#46039f"
             ],
             [
              0.2222222222222222,
              "#7201a8"
             ],
             [
              0.3333333333333333,
              "#9c179e"
             ],
             [
              0.4444444444444444,
              "#bd3786"
             ],
             [
              0.5555555555555556,
              "#d8576b"
             ],
             [
              0.6666666666666666,
              "#ed7953"
             ],
             [
              0.7777777777777778,
              "#fb9f3a"
             ],
             [
              0.8888888888888888,
              "#fdca26"
             ],
             [
              1,
              "#f0f921"
             ]
            ],
            "type": "histogram2d"
           }
          ],
          "histogram2dcontour": [
           {
            "colorbar": {
             "outlinewidth": 0,
             "ticks": ""
            },
            "colorscale": [
             [
              0,
              "#0d0887"
             ],
             [
              0.1111111111111111,
              "#46039f"
             ],
             [
              0.2222222222222222,
              "#7201a8"
             ],
             [
              0.3333333333333333,
              "#9c179e"
             ],
             [
              0.4444444444444444,
              "#bd3786"
             ],
             [
              0.5555555555555556,
              "#d8576b"
             ],
             [
              0.6666666666666666,
              "#ed7953"
             ],
             [
              0.7777777777777778,
              "#fb9f3a"
             ],
             [
              0.8888888888888888,
              "#fdca26"
             ],
             [
              1,
              "#f0f921"
             ]
            ],
            "type": "histogram2dcontour"
           }
          ],
          "mesh3d": [
           {
            "colorbar": {
             "outlinewidth": 0,
             "ticks": ""
            },
            "type": "mesh3d"
           }
          ],
          "parcoords": [
           {
            "line": {
             "colorbar": {
              "outlinewidth": 0,
              "ticks": ""
             }
            },
            "type": "parcoords"
           }
          ],
          "pie": [
           {
            "automargin": true,
            "type": "pie"
           }
          ],
          "scatter": [
           {
            "marker": {
             "colorbar": {
              "outlinewidth": 0,
              "ticks": ""
             }
            },
            "type": "scatter"
           }
          ],
          "scatter3d": [
           {
            "line": {
             "colorbar": {
              "outlinewidth": 0,
              "ticks": ""
             }
            },
            "marker": {
             "colorbar": {
              "outlinewidth": 0,
              "ticks": ""
             }
            },
            "type": "scatter3d"
           }
          ],
          "scattercarpet": [
           {
            "marker": {
             "colorbar": {
              "outlinewidth": 0,
              "ticks": ""
             }
            },
            "type": "scattercarpet"
           }
          ],
          "scattergeo": [
           {
            "marker": {
             "colorbar": {
              "outlinewidth": 0,
              "ticks": ""
             }
            },
            "type": "scattergeo"
           }
          ],
          "scattergl": [
           {
            "marker": {
             "colorbar": {
              "outlinewidth": 0,
              "ticks": ""
             }
            },
            "type": "scattergl"
           }
          ],
          "scattermapbox": [
           {
            "marker": {
             "colorbar": {
              "outlinewidth": 0,
              "ticks": ""
             }
            },
            "type": "scattermapbox"
           }
          ],
          "scatterpolar": [
           {
            "marker": {
             "colorbar": {
              "outlinewidth": 0,
              "ticks": ""
             }
            },
            "type": "scatterpolar"
           }
          ],
          "scatterpolargl": [
           {
            "marker": {
             "colorbar": {
              "outlinewidth": 0,
              "ticks": ""
             }
            },
            "type": "scatterpolargl"
           }
          ],
          "scatterternary": [
           {
            "marker": {
             "colorbar": {
              "outlinewidth": 0,
              "ticks": ""
             }
            },
            "type": "scatterternary"
           }
          ],
          "surface": [
           {
            "colorbar": {
             "outlinewidth": 0,
             "ticks": ""
            },
            "colorscale": [
             [
              0,
              "#0d0887"
             ],
             [
              0.1111111111111111,
              "#46039f"
             ],
             [
              0.2222222222222222,
              "#7201a8"
             ],
             [
              0.3333333333333333,
              "#9c179e"
             ],
             [
              0.4444444444444444,
              "#bd3786"
             ],
             [
              0.5555555555555556,
              "#d8576b"
             ],
             [
              0.6666666666666666,
              "#ed7953"
             ],
             [
              0.7777777777777778,
              "#fb9f3a"
             ],
             [
              0.8888888888888888,
              "#fdca26"
             ],
             [
              1,
              "#f0f921"
             ]
            ],
            "type": "surface"
           }
          ],
          "table": [
           {
            "cells": {
             "fill": {
              "color": "#EBF0F8"
             },
             "line": {
              "color": "white"
             }
            },
            "header": {
             "fill": {
              "color": "#C8D4E3"
             },
             "line": {
              "color": "white"
             }
            },
            "type": "table"
           }
          ]
         },
         "layout": {
          "annotationdefaults": {
           "arrowcolor": "#2a3f5f",
           "arrowhead": 0,
           "arrowwidth": 1
          },
          "autotypenumbers": "strict",
          "coloraxis": {
           "colorbar": {
            "outlinewidth": 0,
            "ticks": ""
           }
          },
          "colorscale": {
           "diverging": [
            [
             0,
             "#8e0152"
            ],
            [
             0.1,
             "#c51b7d"
            ],
            [
             0.2,
             "#de77ae"
            ],
            [
             0.3,
             "#f1b6da"
            ],
            [
             0.4,
             "#fde0ef"
            ],
            [
             0.5,
             "#f7f7f7"
            ],
            [
             0.6,
             "#e6f5d0"
            ],
            [
             0.7,
             "#b8e186"
            ],
            [
             0.8,
             "#7fbc41"
            ],
            [
             0.9,
             "#4d9221"
            ],
            [
             1,
             "#276419"
            ]
           ],
           "sequential": [
            [
             0,
             "#0d0887"
            ],
            [
             0.1111111111111111,
             "#46039f"
            ],
            [
             0.2222222222222222,
             "#7201a8"
            ],
            [
             0.3333333333333333,
             "#9c179e"
            ],
            [
             0.4444444444444444,
             "#bd3786"
            ],
            [
             0.5555555555555556,
             "#d8576b"
            ],
            [
             0.6666666666666666,
             "#ed7953"
            ],
            [
             0.7777777777777778,
             "#fb9f3a"
            ],
            [
             0.8888888888888888,
             "#fdca26"
            ],
            [
             1,
             "#f0f921"
            ]
           ],
           "sequentialminus": [
            [
             0,
             "#0d0887"
            ],
            [
             0.1111111111111111,
             "#46039f"
            ],
            [
             0.2222222222222222,
             "#7201a8"
            ],
            [
             0.3333333333333333,
             "#9c179e"
            ],
            [
             0.4444444444444444,
             "#bd3786"
            ],
            [
             0.5555555555555556,
             "#d8576b"
            ],
            [
             0.6666666666666666,
             "#ed7953"
            ],
            [
             0.7777777777777778,
             "#fb9f3a"
            ],
            [
             0.8888888888888888,
             "#fdca26"
            ],
            [
             1,
             "#f0f921"
            ]
           ]
          },
          "colorway": [
           "#636efa",
           "#EF553B",
           "#00cc96",
           "#ab63fa",
           "#FFA15A",
           "#19d3f3",
           "#FF6692",
           "#B6E880",
           "#FF97FF",
           "#FECB52"
          ],
          "font": {
           "color": "#2a3f5f"
          },
          "geo": {
           "bgcolor": "white",
           "lakecolor": "white",
           "landcolor": "#E5ECF6",
           "showlakes": true,
           "showland": true,
           "subunitcolor": "white"
          },
          "hoverlabel": {
           "align": "left"
          },
          "hovermode": "closest",
          "mapbox": {
           "style": "light"
          },
          "paper_bgcolor": "white",
          "plot_bgcolor": "#E5ECF6",
          "polar": {
           "angularaxis": {
            "gridcolor": "white",
            "linecolor": "white",
            "ticks": ""
           },
           "bgcolor": "#E5ECF6",
           "radialaxis": {
            "gridcolor": "white",
            "linecolor": "white",
            "ticks": ""
           }
          },
          "scene": {
           "xaxis": {
            "backgroundcolor": "#E5ECF6",
            "gridcolor": "white",
            "gridwidth": 2,
            "linecolor": "white",
            "showbackground": true,
            "ticks": "",
            "zerolinecolor": "white"
           },
           "yaxis": {
            "backgroundcolor": "#E5ECF6",
            "gridcolor": "white",
            "gridwidth": 2,
            "linecolor": "white",
            "showbackground": true,
            "ticks": "",
            "zerolinecolor": "white"
           },
           "zaxis": {
            "backgroundcolor": "#E5ECF6",
            "gridcolor": "white",
            "gridwidth": 2,
            "linecolor": "white",
            "showbackground": true,
            "ticks": "",
            "zerolinecolor": "white"
           }
          },
          "shapedefaults": {
           "line": {
            "color": "#2a3f5f"
           }
          },
          "ternary": {
           "aaxis": {
            "gridcolor": "white",
            "linecolor": "white",
            "ticks": ""
           },
           "baxis": {
            "gridcolor": "white",
            "linecolor": "white",
            "ticks": ""
           },
           "bgcolor": "#E5ECF6",
           "caxis": {
            "gridcolor": "white",
            "linecolor": "white",
            "ticks": ""
           }
          },
          "title": {
           "x": 0.05
          },
          "xaxis": {
           "automargin": true,
           "gridcolor": "white",
           "linecolor": "white",
           "ticks": "",
           "title": {
            "standoff": 15
           },
           "zerolinecolor": "white",
           "zerolinewidth": 2
          },
          "yaxis": {
           "automargin": true,
           "gridcolor": "white",
           "linecolor": "white",
           "ticks": "",
           "title": {
            "standoff": 15
           },
           "zerolinecolor": "white",
           "zerolinewidth": 2
          }
         }
        },
        "title": {
         "text": "Cantidad de Planta 0 - Filtros Cartucho-Temperatura del agua, Rack2-Flujo de rechazo.",
         "x": 0.5
        },
        "width": 1200,
        "xaxis": {
         "anchor": "y",
         "domain": [
          0,
          1
         ],
         "tickangle": 0,
         "title": {
          "font": {
           "size": 20
          },
          "standoff": 25,
          "text": "x"
         }
        },
        "yaxis": {
         "anchor": "x",
         "domain": [
          0,
          1
         ],
         "title": {
          "text": "y"
         }
        }
       }
      }
     },
     "metadata": {},
     "output_type": "display_data"
    }
   ],
   "source": [
    "glauben_graphic.plotWithBar()"
   ]
  }
 ],
 "metadata": {
  "interpreter": {
   "hash": "26b3a233131def8c95a9e14729e9e32a09f8b569a13e4952869b985351e58e9e"
  },
  "kernelspec": {
   "display_name": "Python 3.8.10 ('ge')",
   "language": "python",
   "name": "python3"
  },
  "language_info": {
   "codemirror_mode": {
    "name": "ipython",
    "version": 3
   },
   "file_extension": ".py",
   "mimetype": "text/x-python",
   "name": "python",
   "nbconvert_exporter": "python",
   "pygments_lexer": "ipython3",
   "version": "3.8.13"
  },
  "orig_nbformat": 4
 },
 "nbformat": 4,
 "nbformat_minor": 2
}
