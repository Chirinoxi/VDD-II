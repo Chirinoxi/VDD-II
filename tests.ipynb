{
 "cells": [
  {
   "cell_type": "markdown",
   "metadata": {},
   "source": [
    "# Pruebas\n",
    "\n",
    "En este notebook haremos prubeas de neustros tres módulos a desarrollar."
   ]
  },
  {
   "cell_type": "code",
   "execution_count": 25,
   "metadata": {},
   "outputs": [],
   "source": [
    "from src.GlaubenDataPrep import GlaubenDataPrep"
   ]
  },
  {
   "cell_type": "code",
   "execution_count": 26,
   "metadata": {},
   "outputs": [],
   "source": [
    "my_data_dir = 'C:/Users/ignac/OneDrive/Escritorio/UCN/Asesoría/Data/Limpios/sdi_training_dataset.csv'\n",
    "glauben_data_prep = GlaubenDataPrep(my_data_dir)"
   ]
  },
  {
   "cell_type": "code",
   "execution_count": 27,
   "metadata": {},
   "outputs": [],
   "source": [
    "glauben_data_prep.loadData()"
   ]
  },
  {
   "cell_type": "code",
   "execution_count": 28,
   "metadata": {},
   "outputs": [
    {
     "name": "stdout",
     "output_type": "stream",
     "text": [
      "<class 'pandas.core.frame.DataFrame'>\n",
      "RangeIndex: 93596 entries, 0 to 93595\n",
      "Data columns (total 14 columns):\n",
      " #   Column                           Non-Null Count  Dtype  \n",
      "---  ------                           --------------  -----  \n",
      " 0   Timestamp                        93596 non-null  object \n",
      " 1   Day                              93596 non-null  object \n",
      " 2   Conductividad de entrada         93596 non-null  float64\n",
      " 3   SDI Entrada RO                   93596 non-null  float64\n",
      " 4   Flujo de Alimentacion            93596 non-null  float64\n",
      " 5   Flujo de rechazo                 93596 non-null  float64\n",
      " 6   Presion de entrada               93596 non-null  float64\n",
      " 7   Temperatura entrada              93596 non-null  float64\n",
      " 8   Flujo normalizado                93596 non-null  float64\n",
      " 9   Presion diferencial              93596 non-null  float64\n",
      " 10  Conductividad de permeado        93596 non-null  float64\n",
      " 11  Diferencial de Filtros Cartucho  93596 non-null  float64\n",
      " 12  Nombre planta                    93596 non-null  object \n",
      " 13  Tipo Operacion                   93596 non-null  object \n",
      "dtypes: float64(10), object(4)\n",
      "memory usage: 10.0+ MB\n"
     ]
    }
   ],
   "source": [
    "glauben_data_prep.data.info()"
   ]
  },
  {
   "cell_type": "code",
   "execution_count": 29,
   "metadata": {},
   "outputs": [],
   "source": [
    "glauben_data_prep.clean_data = glauben_data_prep.filterByGauss(glauben_data_prep.data, 3)"
   ]
  },
  {
   "cell_type": "code",
   "execution_count": 30,
   "metadata": {},
   "outputs": [
    {
     "name": "stdout",
     "output_type": "stream",
     "text": [
      "<class 'pandas.core.frame.DataFrame'>\n",
      "Int64Index: 87963 entries, 0 to 89699\n",
      "Data columns (total 14 columns):\n",
      " #   Column                           Non-Null Count  Dtype  \n",
      "---  ------                           --------------  -----  \n",
      " 0   Timestamp                        87963 non-null  object \n",
      " 1   Day                              87963 non-null  object \n",
      " 2   Conductividad de entrada         87963 non-null  float64\n",
      " 3   SDI Entrada RO                   87963 non-null  float64\n",
      " 4   Flujo de Alimentacion            87963 non-null  float64\n",
      " 5   Flujo de rechazo                 87963 non-null  float64\n",
      " 6   Presion de entrada               87963 non-null  float64\n",
      " 7   Temperatura entrada              87963 non-null  float64\n",
      " 8   Flujo normalizado                87963 non-null  float64\n",
      " 9   Presion diferencial              87963 non-null  float64\n",
      " 10  Conductividad de permeado        87963 non-null  float64\n",
      " 11  Diferencial de Filtros Cartucho  87963 non-null  float64\n",
      " 12  Nombre planta                    87963 non-null  object \n",
      " 13  Tipo Operacion                   87963 non-null  object \n",
      "dtypes: float64(10), object(4)\n",
      "memory usage: 10.1+ MB\n"
     ]
    }
   ],
   "source": [
    "glauben_data_prep.clean_data.info()"
   ]
  }
 ],
 "metadata": {
  "interpreter": {
   "hash": "a5da050d3425927452d1b5fb28b3e99b0e015e2ec737fc3ec1b172c91fa685e3"
  },
  "kernelspec": {
   "display_name": "Python 3.6.5 ('DscienceTF')",
   "language": "python",
   "name": "python3"
  },
  "language_info": {
   "codemirror_mode": {
    "name": "ipython",
    "version": 3
   },
   "file_extension": ".py",
   "mimetype": "text/x-python",
   "name": "python",
   "nbconvert_exporter": "python",
   "pygments_lexer": "ipython3",
   "version": "3.6.5"
  },
  "orig_nbformat": 4
 },
 "nbformat": 4,
 "nbformat_minor": 2
}
