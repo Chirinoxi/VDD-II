{
 "cells": [
  {
   "cell_type": "markdown",
   "metadata": {},
   "source": [
    "# Pruebas\n",
    "\n",
    "En este notebook haremos prubeas de neustros tres módulos a desarrollar."
   ]
  },
  {
   "cell_type": "code",
   "execution_count": null,
   "metadata": {},
   "outputs": [
    {
     "ename": "",
     "evalue": "",
     "output_type": "error",
     "traceback": [
      "\u001b[1;31mRunning cells with 'Python 3.8.10 ('ge')' requires ipykernel package.\n",
      "Run the following command to install 'ipykernel' into the Python environment. \n",
      "Command: 'conda install -n ge ipykernel --update-deps --force-reinstall'"
     ]
    }
   ],
   "source": [
    "from src.GlaubenDataPrep import GlaubenDataPrep"
   ]
  },
  {
   "cell_type": "code",
   "execution_count": null,
   "metadata": {},
   "outputs": [
    {
     "ename": "",
     "evalue": "",
     "output_type": "error",
     "traceback": [
      "\u001b[1;31mRunning cells with 'Python 3.8.10 ('ge')' requires ipykernel package.\n",
      "Run the following command to install 'ipykernel' into the Python environment. \n",
      "Command: 'conda install -n ge ipykernel --update-deps --force-reinstall'"
     ]
    },
    {
     "ename": "",
     "evalue": "",
     "output_type": "error",
     "traceback": [
      "\u001b[1;31mRunning cells with 'Python 3.8.10 ('ge')' requires ipykernel package.\n",
      "Run the following command to install 'ipykernel' into the Python environment. \n",
      "Command: 'conda install -n ge ipykernel --update-deps --force-reinstall'"
     ]
    }
   ],
   "source": [
    "my_data_dir = 'C:/Users/ignac/OneDrive/Escritorio/UCN/Asesoría/Data/Limpios/sdi_training_dataset.csv'\n",
    "glauben_data_prep = GlaubenDataPrep(my_data_dir)"
   ]
  },
  {
   "cell_type": "code",
   "execution_count": null,
   "metadata": {},
   "outputs": [
    {
     "ename": "",
     "evalue": "",
     "output_type": "error",
     "traceback": [
      "\u001b[1;31mRunning cells with 'Python 3.8.10 ('ge')' requires ipykernel package.\n",
      "Run the following command to install 'ipykernel' into the Python environment. \n",
      "Command: 'conda install -n ge ipykernel --update-deps --force-reinstall'"
     ]
    },
    {
     "ename": "",
     "evalue": "",
     "output_type": "error",
     "traceback": [
      "\u001b[1;31mRunning cells with 'Python 3.8.10 ('ge')' requires ipykernel package.\n",
      "Run the following command to install 'ipykernel' into the Python environment. \n",
      "Command: 'conda install -n ge ipykernel --update-deps --force-reinstall'"
     ]
    }
   ],
   "source": [
    "glauben_data_prep.loadData()"
   ]
  },
  {
   "cell_type": "code",
   "execution_count": null,
   "metadata": {},
   "outputs": [
    {
     "name": "stdout",
     "output_type": "stream",
     "text": [
      "<class 'pandas.core.frame.DataFrame'>\n",
      "RangeIndex: 93596 entries, 0 to 93595\n",
      "Data columns (total 14 columns):\n",
      " #   Column                           Non-Null Count  Dtype  \n",
      "---  ------                           --------------  -----  \n",
      " 0   Timestamp                        93596 non-null  object \n",
      " 1   Day                              93596 non-null  object \n",
      " 2   Conductividad de entrada         93596 non-null  float64\n",
      " 3   SDI Entrada RO                   93596 non-null  float64\n",
      " 4   Flujo de Alimentacion            93596 non-null  float64\n",
      " 5   Flujo de rechazo                 93596 non-null  float64\n",
      " 6   Presion de entrada               93596 non-null  float64\n",
      " 7   Temperatura entrada              93596 non-null  float64\n",
      " 8   Flujo normalizado                93596 non-null  float64\n",
      " 9   Presion diferencial              93596 non-null  float64\n",
      " 10  Conductividad de permeado        93596 non-null  float64\n",
      " 11  Diferencial de Filtros Cartucho  93596 non-null  float64\n",
      " 12  Nombre planta                    93596 non-null  object \n",
      " 13  Tipo Operacion                   93596 non-null  object \n",
      "dtypes: float64(10), object(4)\n",
      "memory usage: 10.0+ MB\n"
     ]
    },
    {
     "ename": "",
     "evalue": "",
     "output_type": "error",
     "traceback": [
      "\u001b[1;31mRunning cells with 'Python 3.8.10 ('ge')' requires ipykernel package.\n",
      "Run the following command to install 'ipykernel' into the Python environment. \n",
      "Command: 'conda install -n ge ipykernel --update-deps --force-reinstall'"
     ]
    },
    {
     "ename": "",
     "evalue": "",
     "output_type": "error",
     "traceback": [
      "\u001b[1;31mRunning cells with 'Python 3.8.10 ('ge')' requires ipykernel package.\n",
      "Run the following command to install 'ipykernel' into the Python environment. \n",
      "Command: 'conda install -n ge ipykernel --update-deps --force-reinstall'"
     ]
    }
   ],
   "source": [
    "glauben_data_prep.data.info()"
   ]
  },
  {
   "cell_type": "code",
   "execution_count": null,
   "metadata": {},
   "outputs": [
    {
     "name": "stdout",
     "output_type": "stream",
     "text": [
      "['Timestamp', 'Day', 'Conductividad de entrada', 'SDI Entrada RO', 'Flujo de Alimentacion', 'Flujo de rechazo', 'Presion de entrada', 'Temperatura entrada', 'Flujo normalizado', 'Presion diferencial', 'Conductividad de permeado', 'Diferencial de Filtros Cartucho', 'Nombre planta', 'Tipo Operacion']\n"
     ]
    },
    {
     "ename": "",
     "evalue": "",
     "output_type": "error",
     "traceback": [
      "\u001b[1;31mRunning cells with 'Python 3.8.10 ('ge')' requires ipykernel package.\n",
      "Run the following command to install 'ipykernel' into the Python environment. \n",
      "Command: 'conda install -n ge ipykernel --update-deps --force-reinstall'"
     ]
    },
    {
     "ename": "",
     "evalue": "",
     "output_type": "error",
     "traceback": [
      "\u001b[1;31mRunning cells with 'Python 3.8.10 ('ge')' requires ipykernel package.\n",
      "Run the following command to install 'ipykernel' into the Python environment. \n",
      "Command: 'conda install -n ge ipykernel --update-deps --force-reinstall'"
     ]
    }
   ],
   "source": [
    "glauben_data_prep.clean_data = glauben_data_prep.filterByGauss(glauben_data_prep.data, 3)"
   ]
  },
  {
   "cell_type": "code",
   "execution_count": null,
   "metadata": {},
   "outputs": [
    {
     "name": "stdout",
     "output_type": "stream",
     "text": [
      "<class 'pandas.core.frame.DataFrame'>\n",
      "Int64Index: 87963 entries, 0 to 89699\n",
      "Data columns (total 14 columns):\n",
      " #   Column                           Non-Null Count  Dtype  \n",
      "---  ------                           --------------  -----  \n",
      " 0   Timestamp                        87963 non-null  object \n",
      " 1   Day                              87963 non-null  object \n",
      " 2   Conductividad de entrada         87963 non-null  float64\n",
      " 3   SDI Entrada RO                   87963 non-null  float64\n",
      " 4   Flujo de Alimentacion            87963 non-null  float64\n",
      " 5   Flujo de rechazo                 87963 non-null  float64\n",
      " 6   Presion de entrada               87963 non-null  float64\n",
      " 7   Temperatura entrada              87963 non-null  float64\n",
      " 8   Flujo normalizado                87963 non-null  float64\n",
      " 9   Presion diferencial              87963 non-null  float64\n",
      " 10  Conductividad de permeado        87963 non-null  float64\n",
      " 11  Diferencial de Filtros Cartucho  87963 non-null  float64\n",
      " 12  Nombre planta                    87963 non-null  object \n",
      " 13  Tipo Operacion                   87963 non-null  object \n",
      "dtypes: float64(10), object(4)\n",
      "memory usage: 10.1+ MB\n"
     ]
    },
    {
     "ename": "",
     "evalue": "",
     "output_type": "error",
     "traceback": [
      "\u001b[1;31mRunning cells with 'Python 3.8.10 ('ge')' requires ipykernel package.\n",
      "Run the following command to install 'ipykernel' into the Python environment. \n",
      "Command: 'conda install -n ge ipykernel --update-deps --force-reinstall'"
     ]
    },
    {
     "ename": "",
     "evalue": "",
     "output_type": "error",
     "traceback": [
      "\u001b[1;31mRunning cells with 'Python 3.8.10 ('ge')' requires ipykernel package.\n",
      "Run the following command to install 'ipykernel' into the Python environment. \n",
      "Command: 'conda install -n ge ipykernel --update-deps --force-reinstall'"
     ]
    }
   ],
   "source": [
    "glauben_data_prep.clean_data.info()"
   ]
  }
 ],
 "metadata": {
  "interpreter": {
   "hash": "26b3a233131def8c95a9e14729e9e32a09f8b569a13e4952869b985351e58e9e"
  },
  "kernelspec": {
   "display_name": "Python 3.8.10 ('ge')",
   "language": "python",
   "name": "python3"
  },
  "language_info": {
   "codemirror_mode": {
    "name": "ipython",
    "version": 3
   },
   "file_extension": ".py",
   "mimetype": "text/x-python",
   "name": "python",
   "nbconvert_exporter": "python",
   "pygments_lexer": "ipython3",
   "version": "3.8.10"
  },
  "orig_nbformat": 4
 },
 "nbformat": 4,
 "nbformat_minor": 2
}
